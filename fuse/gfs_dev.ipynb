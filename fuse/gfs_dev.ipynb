{
 "cells": [
  {
   "cell_type": "code",
   "execution_count": 8,
   "metadata": {
    "collapsed": true
   },
   "outputs": [],
   "source": [
    "#!/usr/bin/python\n",
    "# needs shoutout to a couple of gits...\n",
    "\n",
    "import logging\n",
    "import os\n",
    "import time\n",
    "import argparse\n",
    "from errno import *\n",
    "from bioblend.galaxy import objects\n",
    "from bioblend.galaxy.client import ConnectionError\n",
    "from stat import S_IFDIR, S_IFREG, S_IFLNK\n",
    "from fuse import Operations\n",
    "from fuse import FUSE, FuseOSError"
   ]
  },
  {
   "cell_type": "code",
   "execution_count": 9,
   "metadata": {
    "collapsed": true
   },
   "outputs": [],
   "source": [
    "class GFSObject(Operations):\n",
    "\n",
    "    def __init__(self, gfs):\n",
    "        self.gfs = gfs\n",
    "\n",
    "class GFSManager(Operations):\n",
    "    context = None #should be abstract to force sub-class implementation\n",
    "    \n",
    "    def delegate(self, op, *args):\n",
    "\n",
    "        boundObj = self._path_bound(args[0])\n",
    "        logging.debug('{}.{} [{}]'.format(boundObj.__class__.__name__, op, args))\n",
    "\n",
    "        if not hasattr(boundObj, op):\n",
    "            raise FuseOSError(EFAULT)\n",
    "            \n",
    "        return getattr(boundObj, op)(*args)  \n",
    "\n",
    "class GalaxyFS(Operations):\n",
    "    \n",
    "    def __init__(self, galaxy_url, api_key):\n",
    "        self.gi = objects.GalaxyInstance(url=galaxy_url, api_key=api_key)\n",
    "        self.root = RootDirectory()\n",
    "        \n",
    "        #TODO: for all subclasses of GFSObject register path, module grab classes inspect inheritance, b00m\n",
    "        self.path_bindings = {\n",
    "                                RootDirectory.context : self.root,\n",
    "                                HistoryManager.context : HistoryManager(self),\n",
    "                             }\n",
    "    \n",
    "    def _path_bound(self, path):\n",
    "        pbits = path.split(os.path.sep) #TODO: path splitter function, maybe return enum?\n",
    "        pbits_length = len(pbits)\n",
    "        if pbits_length == 1: # ['']/\n",
    "            bind = self.path_bindings.get(path)\n",
    "        elif pbits_length > 1: # e.g. ['']/['histories']/['Unnamed History [8997977]']\n",
    "            bind = self.path_bindings.get(pbits[1], False)       \n",
    "            if not bind: # i.e. top level directory couldn't match\n",
    "                bind = self.root # delegate handling to root directory\n",
    "                \n",
    "        return bind\n",
    "    \n",
    "    def __call__(self, op, *args):\n",
    "        logging.debug('{} -> {} ::'.format(op, args[0]))\n",
    "        boundObj = self._path_bound(args[0])\n",
    "        return boundObj.delegate(op, *args)"
   ]
  },
  {
   "cell_type": "code",
   "execution_count": 10,
   "metadata": {
    "collapsed": true
   },
   "outputs": [],
   "source": [
    "class Directory(): #should subclass file? or fusepy object?\n",
    "    \n",
    "    def readdir(self, path=None, fh=None):\n",
    "        return ['.','..']\n",
    "    \n",
    "    def getattr(self, path=None, fh=None):\n",
    "\n",
    "        st = dict(st_mode=(S_IFDIR | 0700), st_nlink=2) #TODO: nlinks            \n",
    "        # do we want actual create times?\n",
    "        st['st_ctime'] = st['st_mtime'] = st['st_atime'] = time.time()\n",
    "        st['st_uid'] = os.geteuid()\n",
    "        st['st_gid'] = os.getegid()\n",
    "        return st\n",
    "\n",
    "class File():\n",
    "    \n",
    "    def getattr(self, path=None, fh=None):\n",
    "        st = dict(st_mode=(S_IFREG | 0400), st_nlink=2) #TODO: nlinks            \n",
    "        # do we want actual create times?\n",
    "        st['st_ctime'] = st['st_mtime'] = st['st_atime'] = time.time()\n",
    "        st['st_uid'] = os.geteuid()\n",
    "        st['st_gid'] = os.getegid()\n",
    "        return st"
   ]
  },
  {
   "cell_type": "code",
   "execution_count": 11,
   "metadata": {
    "collapsed": true
   },
   "outputs": [],
   "source": [
    "class RootDirectory(Directory, GFSManager):\n",
    "    context = '/'\n",
    "    tlds = ['histories']#, 'libraries', 'tools', 'workflows']\n",
    "    \n",
    "    def _path_bound(self, path):\n",
    "        return self\n",
    "    \n",
    "    def getattr(self, path=None, fh=None):\n",
    "        \n",
    "        if path == '/':\n",
    "            st = dict(st_mode=(S_IFDIR | 0500), st_nlink=2) #TODO: nlinks            \n",
    "            # do we want actual create times?\n",
    "            st['st_ctime'] = st['st_mtime'] = st['st_atime'] = time.time()\n",
    "            st['st_uid'] = os.geteuid()\n",
    "            st['st_gid'] = os.getegid()\n",
    "            return st\n",
    "        else:\n",
    "            raise FuseOSError(ENOENT)\n",
    "            \n",
    "    def readdir(self, path=None, fh=None):\n",
    "        return RootDirectory.tlds+super(RootDirectory, self).readdir()"
   ]
  },
  {
   "cell_type": "code",
   "execution_count": 12,
   "metadata": {
    "collapsed": true
   },
   "outputs": [],
   "source": [
    "class HistoryManager(GFSObject, GFSManager):\n",
    "    context = 'histories'\n",
    "    \n",
    "    def __init__(self, gfs):\n",
    "        super(HistoryManager, self).__init__(gfs)\n",
    "        self.transactionMap = {}\n",
    "    \n",
    "    def _path_bound(self, path):\n",
    "        if path in self.transactionMap:\n",
    "            wd = self.transactionMap.get(path).split(os.path.sep)\n",
    "            del self.transactionMap[path]\n",
    "        else:\n",
    "            wd = path.split(os.path.sep)\n",
    "        \n",
    "        wd_length = len(wd)\n",
    "        if wd_length == 2: #== /histories -> Histories\n",
    "            return Histories(self)\n",
    "        elif wd_length == 3: #== /histories/Unnamed History [8997977]/ -> History\n",
    "            hist_id = wd[2][wd[2].rfind('[')+1:wd[2].rfind(']')]\n",
    "            try:\n",
    "                return History(hist_id, self.gfs)\n",
    "            except ConnectionError:\n",
    "                return Histories(self)\n",
    "        elif wd_length == 4: #== /histories/Unnamed History [8997977]/Pasted Entry [5969b1f7201f12ae] -> HistoryDataset\n",
    "            hist_id = wd[2][wd[2].rfind('[')+1:wd[2].rfind(']')]\n",
    "            dataset_id = wd[3][wd[3].rfind('[')+1:wd[3].rfind(']')]\n",
    "            return History(hist_id, self.gfs).getDataset(dataset_id)\n",
    "\n",
    "class Histories(Directory, GFSObject):\n",
    "    \n",
    "    def __init__(self, manager):\n",
    "        self.manager = manager\n",
    "        super(Histories, self).__init__(manager.gfs)\n",
    "    \n",
    "    def getattr(self, path=None, fh=None):\n",
    "        if path == '/histories':\n",
    "            return super(Histories, self).getattr(path, fh)\n",
    "        else:\n",
    "            raise FuseOSError(ENOENT)\n",
    "            \n",
    "    def readdir(self, path=None, fh=None): # TODO: for all id's that go [inside], create tag function\n",
    "        return [history.name+' ['+history.id+']' for history in self.gfs.gi.histories.list()]+super(Histories, self).readdir()\n",
    "    \n",
    "    def mkdir(self, path=None, mode=None):\n",
    "        new_hist = self.gfs.gi.histories.create(path[path.rfind(os.path.sep)+1:])\n",
    "        self.manager.transactionMap[path] = '/histories/{} [{}]'.format(new_hist.name, new_hist.id)\n",
    "    \n",
    "class History(Directory, GFSObject):\n",
    "\n",
    "    def __init__(self, hist_id, gfs):\n",
    "        super(History, self).__init__(gfs)\n",
    "        self.hist = self.gfs.gi.histories.get(hist_id)\n",
    "        \n",
    "    def rmdir(self, path):\n",
    "        self.gfs.gi.histories.delete(self.hist.id)\n",
    "\n",
    "    def rename(self, old, new):\n",
    "        path = new[:new.rfind(os.path.sep)]\n",
    "        \n",
    "        if path != '/histories':\n",
    "            raise FuseOSError(EPERM)\n",
    "        name = new[new.rfind(os.path.sep)+1:]\n",
    "        self.hist.update(name=name)\n",
    "\n",
    "    def readdir(self, path=None, fh=None): #TODO: tag function\n",
    "        return ['{}. {} [{}]'.format(hist_item.wrapped['hid'], hist_item.name, hist_item.id) for hist_item in self.hist.content_infos if not hist_item.deleted]+super(History, self).readdir()\n",
    "    \n",
    "    def getDataset(self, dataset_id):\n",
    "        return HistoryDataset(self.hist, dataset_id, self.gfs)\n",
    "    \n",
    "class HistoryDataset(File, GFSObject):\n",
    "    \n",
    "    def __init__(self, hist, dataset_id, gfs):\n",
    "        super(HistoryDataset, self).__init__(gfs)\n",
    "        self.dataset = hist.get_dataset(dataset_id)\n",
    "        \n",
    "    def unlink(self, path):\n",
    "        self.dataset.delete()"
   ]
  },
  {
   "cell_type": "code",
   "execution_count": 15,
   "metadata": {
    "collapsed": true
   },
   "outputs": [],
   "source": [
    "gfs = GalaxyFS('http://localhost:8080', '2d34ae88bba2a88c21d4e2da41dcda3d')"
   ]
  },
  {
   "cell_type": "code",
   "execution_count": 20,
   "metadata": {
    "collapsed": false
   },
   "outputs": [],
   "source": [
    "logging.getLogger().setLevel(logging.WARNING)\n",
    "fuse = FUSE(gfs, '/home/cam/bench/gfs', foreground=True, nothreads=True, ro=False)"
   ]
  },
  {
   "cell_type": "code",
   "execution_count": null,
   "metadata": {
    "collapsed": true
   },
   "outputs": [],
   "source": []
  }
 ],
 "metadata": {
  "kernelspec": {
   "display_name": "Python 2",
   "language": "python",
   "name": "python2"
  },
  "language_info": {
   "codemirror_mode": {
    "name": "ipython",
    "version": 2
   },
   "file_extension": ".py",
   "mimetype": "text/x-python",
   "name": "python",
   "nbconvert_exporter": "python",
   "pygments_lexer": "ipython2",
   "version": "2.7.9"
  }
 },
 "nbformat": 4,
 "nbformat_minor": 0
}
