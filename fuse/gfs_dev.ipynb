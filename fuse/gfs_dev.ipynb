{
 "cells": [
  {
   "cell_type": "code",
   "execution_count": 1,
   "metadata": {
    "collapsed": false
   },
   "outputs": [],
   "source": [
    "#!/usr/bin/python\n",
    "# needs shoutout to a couple of gits...\n",
    "\n",
    "import logging\n",
    "import os\n",
    "import sys\n",
    "import time\n",
    "import argparse\n",
    "from errno import *\n",
    "from bioblend.galaxy import objects\n",
    "from bioblend.galaxy.client import ConnectionError\n",
    "from stat import S_IFDIR, S_IFREG, S_IFLNK\n",
    "from fuse import Operations\n",
    "from fuse import FUSE, FuseOSError"
   ]
  },
  {
   "cell_type": "code",
   "execution_count": 2,
   "metadata": {
    "collapsed": true
   },
   "outputs": [],
   "source": [
    "class GFSObject(Operations):\n",
    "\n",
    "    def __init__(self, gfs):\n",
    "        self.gfs = gfs\n",
    "\n",
    "class GFSManager(Operations):\n",
    "    context = None #should be abstract to force sub-class implementation\n",
    "    \n",
    "    def delegate(self, op, *args):\n",
    "\n",
    "        boundObj = self._path_bound(args[0])\n",
    "        logging.debug('{}.{} [{}]'.format(boundObj.__class__.__name__, op, args))\n",
    "\n",
    "        if not hasattr(boundObj, op):\n",
    "            raise FuseOSError(EFAULT)\n",
    "            \n",
    "        return getattr(boundObj, op)(*args)  \n",
    "\n",
    "class GalaxyFS(Operations):\n",
    "    \n",
    "    def __init__(self, galaxy_url, api_key):\n",
    "        self.gi = objects.GalaxyInstance(url=galaxy_url, api_key=api_key)\n",
    "        self.root = RootDirectory()\n",
    "        \n",
    "        #TODO: for all subclasses of GFSObject register path, module grab classes inspect inheritance, b00m\n",
    "        self.path_bindings = {\n",
    "                                RootDirectory.context : self.root,\n",
    "                                HistoryManager.context : HistoryManager(self),\n",
    "                                ToolManager.context : ToolManager(self),\n",
    "                                WorkflowManager.context : WorkflowManager(self)\n",
    "                             }\n",
    "    \n",
    "    def _path_bound(self, path):\n",
    "        pbits = path.split(os.path.sep) #TODO: path splitter function, maybe return enum?\n",
    "        pbits_length = len(pbits)\n",
    "        if pbits_length == 1: # ['']/\n",
    "            bind = self.path_bindings.get(path)\n",
    "        elif pbits_length > 1: # e.g. ['']/['histories']/['Unnamed History [8997977]']\n",
    "            bind = self.path_bindings.get(pbits[1], False)       \n",
    "            if not bind: # i.e. top level directory couldn't match\n",
    "                bind = self.root # delegate handling to root directory\n",
    "                \n",
    "        return bind\n",
    "    \n",
    "    def __call__(self, op, *args):\n",
    "        logging.debug('{} -> {} ::'.format(op, args[0]))\n",
    "        boundObj = self._path_bound(args[0])\n",
    "        return boundObj.delegate(op, *args)"
   ]
  },
  {
   "cell_type": "code",
   "execution_count": 3,
   "metadata": {
    "collapsed": true
   },
   "outputs": [],
   "source": [
    "class Directory(): #should subclass file? or fusepy object?\n",
    "    \n",
    "    def readdir(self, path=None, fh=None):\n",
    "        return ['.','..']\n",
    "    \n",
    "    def getattr(self, path=None, fh=None):\n",
    "\n",
    "        st = dict(st_mode=(S_IFDIR | 0700), st_nlink=2) #TODO: nlinks            \n",
    "        # do we want actual create times?\n",
    "        st['st_ctime'] = st['st_mtime'] = st['st_atime'] = time.time()\n",
    "        st['st_uid'] = os.geteuid()\n",
    "        st['st_gid'] = os.getegid()\n",
    "        return st\n",
    "\n",
    "class File():\n",
    "    \n",
    "    def getattr(self, path=None, fh=None):\n",
    "        st = dict(st_mode=(S_IFREG | 0400), st_nlink=2) #TODO: nlinks            \n",
    "        # do we want actual create times?\n",
    "        st['st_ctime'] = st['st_mtime'] = st['st_atime'] = time.time()\n",
    "        st['st_uid'] = os.geteuid()\n",
    "        st['st_gid'] = os.getegid()\n",
    "        return st"
   ]
  },
  {
   "cell_type": "code",
   "execution_count": 4,
   "metadata": {
    "collapsed": true
   },
   "outputs": [],
   "source": [
    "class RootDirectory(Directory, GFSManager):\n",
    "    context = '/'\n",
    "    tlds = ['histories', 'tools', 'workflows']#, 'libraries', 'tools', 'workflows']\n",
    "    \n",
    "    def _path_bound(self, path):\n",
    "        return self\n",
    "    \n",
    "    def getattr(self, path=None, fh=None):\n",
    "        \n",
    "        if path == '/':\n",
    "            st = dict(st_mode=(S_IFDIR | 0500), st_nlink=2) #TODO: nlinks            \n",
    "            # do we want actual create times?\n",
    "            st['st_ctime'] = st['st_mtime'] = st['st_atime'] = time.time()\n",
    "            st['st_uid'] = os.geteuid()\n",
    "            st['st_gid'] = os.getegid()\n",
    "            return st\n",
    "        else:\n",
    "            raise FuseOSError(ENOENT)\n",
    "            \n",
    "    def readdir(self, path=None, fh=None):\n",
    "        return RootDirectory.tlds+super(RootDirectory, self).readdir()"
   ]
  },
  {
   "cell_type": "code",
   "execution_count": 5,
   "metadata": {
    "collapsed": false
   },
   "outputs": [],
   "source": [
    "class ToolManager(GFSObject, GFSManager):\n",
    "    context = 'tools'\n",
    "    \n",
    "    def stat_tools(self):\n",
    "        self.eid = {}\n",
    "        for tool in self.gfs.gi.tools.list():\n",
    "            if '/' in tool.id:\n",
    "                self.eid[tool.id.split('/')[-2]] = tool.id\n",
    "            else:\n",
    "                self.eid[tool.id] = tool.id\n",
    "    \n",
    "    def __init__(self, gfs):\n",
    "        super(ToolManager, self).__init__(gfs)\n",
    "        self.stat_tools()\n",
    "        \n",
    "    def _path_bound(self, path):\n",
    "        wd = path.split(os.path.sep)\n",
    "        wd_length = len(wd)\n",
    "        if wd_length == 2: ##== /tools -> Tools\n",
    "            return Tools(self)\n",
    "        elif wd_length == 3: #\n",
    "            return Tool(self.eid[wd[2]], self) ##== /tools/cut -> Tool\n",
    "            \n",
    "class Tools(Directory, GFSObject):\n",
    "    \n",
    "    def __init__(self, manager):\n",
    "        self.manager = manager\n",
    "        super(Tools, self).__init__(manager.gfs)\n",
    "\n",
    "    def getattr(self, path=None, fh=None):\n",
    "        if path == '/tools':\n",
    "            return super(Tools, self).getattr(path, fh)\n",
    "        else:\n",
    "            raise FuseOSError(ENOENT)\n",
    "\n",
    "    def readdir(self, path=None, fh=None):\n",
    "        return self.manager.eid.keys()+super(Tools, self).readdir()\n",
    "    \n",
    "class Tool(File, GFSObject):\n",
    "    \n",
    "    def __init__(self, tool_id, manager):\n",
    "        super(Tool, self).__init__(manager.gfs)\n",
    "        self.manager = manager\n",
    "        self.tool = self.gfs.gi.tools.get(tool_id)\n",
    "    \n",
    "        cal = []\n",
    "        cal.append(\"#!/usr/bin/env python\\n\")\n",
    "        cal.append(\"from bioblend.galaxy import objects\\n\")\n",
    "        cal.append(\"import sys\\n\")\n",
    "        cal.append(\"gi = objects.GalaxyInstance(url='%s', api_key='%s')\\n\" % (str(self.gfs.gi.gi.base_url), str(self.gfs.gi.gi.key)))\n",
    "        #cal.append(\"dsetid = sys.argv[1][sys.argv[1].rfind('[')+1:sys.argv[1].rfind(']')]\\n\")\n",
    "        #cal.append(\"print sys.argv[1].split('.')\\n\")\n",
    "        cal.append(\"dsetid = sys.argv[1].split('/')[-1].split('.')[0]\\n\")\n",
    "        cal.append(\"inputs = dict(src='hda', id=dsetid)\\n\")\n",
    "        cal.append(\"print 'did: ',dsetid\\n\")\n",
    "        cal.append(\"tool = gi.tools.get('%s')\\n\" % str(tool_id))\n",
    "        cal.append(\"history = gi.histories.get('1cd8e2f6b131e891')\\n\")\n",
    "        cal.append(\"result = tool.run(inputs, history)\\n\")\n",
    "        cal.append(\"print result\\n\")\n",
    "\n",
    "        self.back = ''.join(cal)\n",
    "        \n",
    "    def getattr(self, path=None, fh=None):\n",
    "        st = dict(st_mode=(S_IFREG | 0500), st_nlink=2) #TODO: nlinks            \n",
    "        # do we want actual create times?\n",
    "        st['st_ctime'] = st['st_mtime'] = st['st_atime'] = time.time()\n",
    "        st['st_uid'] = os.geteuid()\n",
    "        st['st_gid'] = os.getegid()\n",
    "        st['st_size'] = sys.getsizeof(self.back) #or should be this?  len(self.back)\n",
    "        return st\n",
    "    \n",
    "    def read(self, path, size, offset, fh):  \n",
    "        return self.back"
   ]
  },
  {
   "cell_type": "code",
   "execution_count": 6,
   "metadata": {
    "collapsed": false
   },
   "outputs": [],
   "source": [
    "class HistoryManager(GFSObject, GFSManager):\n",
    "    context = 'histories'\n",
    "    \n",
    "    def __init__(self, gfs):\n",
    "        super(HistoryManager, self).__init__(gfs)\n",
    "        self.transactionMap = {}\n",
    "    \n",
    "    def _path_bound(self, path):\n",
    "        if path in self.transactionMap:\n",
    "            wd = self.transactionMap.get(path).split(os.path.sep)\n",
    "            del self.transactionMap[path]\n",
    "        else:\n",
    "            wd = path.split(os.path.sep)\n",
    "        \n",
    "        wd_length = len(wd)\n",
    "        if wd_length == 2: #== /histories -> Histories\n",
    "            return Histories(self)\n",
    "        elif wd_length == 3: #== /histories/Unnamed History [8997977]/ -> History\n",
    "            hist_id = wd[2][wd[2].rfind('[')+1:wd[2].rfind(']')]\n",
    "            try:\n",
    "                return History(hist_id, self.gfs)\n",
    "            except ConnectionError:\n",
    "                return Histories(self)\n",
    "        elif wd_length == 4: #== /histories/Unnamed History [8997977]/Pasted Entry [5969b1f7201f12ae] -> HistoryDataset\n",
    "            hist_id = wd[2][wd[2].rfind('[')+1:wd[2].rfind(']')]\n",
    "            dataset_id = wd[3][wd[3].rfind('[')+1:wd[3].rfind(']')]\n",
    "            return History(hist_id, self.gfs).get_dataset(dataset_id)\n",
    "\n",
    "class Histories(Directory, GFSObject):\n",
    "    \n",
    "    def __init__(self, manager):\n",
    "        self.manager = manager\n",
    "        super(Histories, self).__init__(manager.gfs)\n",
    "    \n",
    "    def getattr(self, path=None, fh=None):\n",
    "        if path == '/histories':\n",
    "            return super(Histories, self).getattr(path, fh)\n",
    "        else:\n",
    "            raise FuseOSError(ENOENT)\n",
    "            \n",
    "    def readdir(self, path=None, fh=None): # TODO: for all id's that go [inside], create tag function\n",
    "        return [history.name+' ['+history.id+']' for history in self.gfs.gi.histories.list()]+super(Histories, self).readdir()\n",
    "    \n",
    "    def mkdir(self, path=None, mode=None):\n",
    "        new_hist = self.gfs.gi.histories.create(path[path.rfind(os.path.sep)+1:])\n",
    "        self.manager.transactionMap[path] = '/histories/{} [{}]'.format(new_hist.name, new_hist.id)\n",
    "    \n",
    "class History(Directory, GFSObject):\n",
    "\n",
    "    def __init__(self, hist_id, gfs):\n",
    "        super(History, self).__init__(gfs)\n",
    "        self.hist = self.gfs.gi.histories.get(hist_id)\n",
    "        \n",
    "    def rmdir(self, path):\n",
    "        self.gfs.gi.histories.delete(self.hist.id)\n",
    "\n",
    "    def rename(self, old, new):\n",
    "        path = new[:new.rfind(os.path.sep)]\n",
    "        \n",
    "        if path != '/histories':\n",
    "            raise FuseOSError(EPERM)\n",
    "        name = new[new.rfind(os.path.sep)+1:]\n",
    "        self.hist.update(name=name)\n",
    "\n",
    "    def readdir(self, path=None, fh=None): #TODO: tag function\n",
    "        return ['{}. {} [{}]'.format(hist_item.wrapped['hid'], hist_item.name, hist_item.id) for hist_item in self.hist.content_infos if not hist_item.deleted]+super(History, self).readdir()\n",
    "    \n",
    "    def get_dataset(self, dataset_id):\n",
    "        return HistoryDataset(self.hist, dataset_id, self.gfs)\n",
    "    \n",
    "class HistoryDataset(File, GFSObject):\n",
    "    \n",
    "    def __init__(self, hist, dataset_id, gfs):\n",
    "        super(HistoryDataset, self).__init__(gfs)\n",
    "        self.dataset = hist.get_dataset(dataset_id)\n",
    "        \n",
    "    def unlink(self, path):\n",
    "        self.dataset.deleted()"
   ]
  },
  {
   "cell_type": "code",
   "execution_count": 7,
   "metadata": {
    "collapsed": true
   },
   "outputs": [],
   "source": [
    "class WorkflowManager(GFSObject, GFSManager):\n",
    "    context = 'workflows'\n",
    "    \n",
    "    def __init__(self, gfs):\n",
    "        super(WorkflowManager, self).__init__(gfs)\n",
    "        self.transactionMap = {}\n",
    "    \n",
    "    def _path_bound(self, path):\n",
    "        if path in self.transactionMap:\n",
    "            wd = self.transactionMap.get(path).split(os.path.sep)\n",
    "            del self.transactionMap[path]\n",
    "        else:\n",
    "            wd = path.split(os.path.sep)\n",
    "        \n",
    "        wd_length = len(wd)\n",
    "        if wd_length == 2: #== /workflows -> Workflows\n",
    "            return Workflows(self)\n",
    "        elif wd_length == 3: #== /workflows/Unnamed Workflow [8997977]/ -> Workflow\n",
    "            workf_id = wd[2][wd[2].rfind('[')+1:wd[2].rfind(']')]\n",
    "            try:\n",
    "                return Workflow(workf_id, self.gfs)\n",
    "            except ConnectionError:\n",
    "                return Workflows(self)\n",
    "        ''' not sure needed yet\n",
    "        elif wd_length == 4: #== /histories/Unnamed History [8997977]/Pasted Entry [5969b1f7201f12ae] -> HistoryDataset\n",
    "            hist_id = wd[2][wd[2].rfind('[')+1:wd[2].rfind(']')]\n",
    "            dataset_id = wd[3][wd[3].rfind('[')+1:wd[3].rfind(']')]\n",
    "            return History(hist_id, self.gfs).getDataset(dataset_id)\n",
    "        '''\n",
    "class Workflows(Directory, GFSObject):\n",
    "    \n",
    "    def __init__(self, manager):\n",
    "        self.manager = manager\n",
    "        super(Workflows, self).__init__(manager.gfs)\n",
    "    \n",
    "    def getattr(self, path=None, fh=None):\n",
    "        if path == '/workflows':\n",
    "            return super(Workflows, self).getattr(path, fh)\n",
    "        else:\n",
    "            raise FuseOSError(ENOENT)\n",
    "            \n",
    "    def readdir(self, path=None, fh=None): # TODO: for all id's that go [inside], create tag function\n",
    "        return [workflow.name+' ['+workflow.id+']' for workflow in self.gfs.gi.workflows.list()]+super(Workflows, self).readdir()\n",
    "    \n",
    "    ''' not yet\n",
    "    def mkdir(self, path=None, mode=None):\n",
    "        new_workf = self.gfs.gi.histories.create(path[path.rfind(os.path.sep)+1:])\n",
    "        self.manager.transactionMap[path] = '/histories/{} [{}]'.format(new_hist.name, new_hist.id)\n",
    "    '''\n",
    "class Workflow(Directory, GFSObject):\n",
    "\n",
    "    def __init__(self, workf_id, gfs):\n",
    "        super(Workflow, self).__init__(gfs)\n",
    "        self.workf = self.gfs.gi.workflows.get(workf_id)\n",
    "        \n",
    "    def rmdir(self, path):\n",
    "        self.gfs.gi.workflows.delete(self.workf.id)\n",
    "\n",
    "    '''\n",
    "    def rename(self, old, new):\n",
    "        path = new[:new.rfind(os.path.sep)]\n",
    "        \n",
    "        if path != '/histories':\n",
    "            raise FuseOSError(EPERM)\n",
    "        name = new[new.rfind(os.path.sep)+1:]\n",
    "        self.hist.update(name=name)\n",
    "    '''\n",
    "    \n",
    "    def readdir(self, path=None, fh=None): #TODO: tag function\n",
    "        return super(Workflow, self).readdir() #['{}. {} [{}]'.format(hist_item.wrapped['hid'], hist_item.name, hist_item.id) for hist_item in self.hist.content_infos if not hist_item.deleted]+super(History, self).readdir()\n",
    "    '''\n",
    "    def getDataset(self, dataset_id):\n",
    "        return HistoryDataset(self.hist, dataset_id, self.gfs)\n",
    "    '''"
   ]
  },
  {
   "cell_type": "code",
   "execution_count": 9,
   "metadata": {
    "collapsed": false
   },
   "outputs": [],
   "source": [
    "logging.getLogger().setLevel(logging.WARNING)\n",
    "gfs = GalaxyFS('http://localhost:8080', 'admin')"
   ]
  },
  {
   "cell_type": "code",
   "execution_count": 11,
   "metadata": {
    "collapsed": false
   },
   "outputs": [
    {
     "name": "stderr",
     "output_type": "stream",
     "text": [
      "ERROR:bioblend:GET: error 404: '{\"err_msg\": \"Could not find tool with id \\'rbc_rnabob\\'\", \"err_code\": 404001}', 0 attempts left\n"
     ]
    },
    {
     "ename": "ConnectionError",
     "evalue": "GET: error 404: '{\"err_msg\": \"Could not find tool with id \\'rbc_rnabob\\'\", \"err_code\": 404001}', 0 attempts left: None",
     "output_type": "error",
     "traceback": [
      "\u001b[1;31m---------------------------------------------------------------------------\u001b[0m",
      "\u001b[1;31mConnectionError\u001b[0m                           Traceback (most recent call last)",
      "\u001b[1;32m<ipython-input-11-efb6a6ec6f33>\u001b[0m in \u001b[0;36m<module>\u001b[1;34m()\u001b[0m\n\u001b[1;32m----> 1\u001b[1;33m \u001b[0mtool\u001b[0m \u001b[1;33m=\u001b[0m \u001b[0mgfs\u001b[0m\u001b[1;33m.\u001b[0m\u001b[0mgi\u001b[0m\u001b[1;33m.\u001b[0m\u001b[0mtools\u001b[0m\u001b[1;33m.\u001b[0m\u001b[0mget\u001b[0m\u001b[1;33m(\u001b[0m\u001b[1;34m'rbc_rnabob'\u001b[0m\u001b[1;33m)\u001b[0m\u001b[1;33m\u001b[0m\u001b[0m\n\u001b[0m\u001b[0;32m      2\u001b[0m \u001b[1;32mfor\u001b[0m \u001b[0mx\u001b[0m \u001b[1;32min\u001b[0m \u001b[0mgfs\u001b[0m\u001b[1;33m.\u001b[0m\u001b[0mgi\u001b[0m\u001b[1;33m.\u001b[0m\u001b[0mgi\u001b[0m\u001b[1;33m.\u001b[0m\u001b[0mtools\u001b[0m\u001b[1;33m.\u001b[0m\u001b[0mshow_tool\u001b[0m\u001b[1;33m(\u001b[0m\u001b[0mtool\u001b[0m\u001b[1;33m.\u001b[0m\u001b[0mid\u001b[0m\u001b[1;33m,\u001b[0m \u001b[0mTrue\u001b[0m\u001b[1;33m,\u001b[0m \u001b[0mFalse\u001b[0m\u001b[1;33m)\u001b[0m\u001b[1;33m[\u001b[0m\u001b[1;34m'inputs'\u001b[0m\u001b[1;33m]\u001b[0m\u001b[1;33m:\u001b[0m\u001b[1;33m\u001b[0m\u001b[0m\n\u001b[0;32m      3\u001b[0m     \u001b[1;32mprint\u001b[0m \u001b[0mx\u001b[0m\u001b[1;33m[\u001b[0m\u001b[1;34m'name'\u001b[0m\u001b[1;33m]\u001b[0m\u001b[1;33m+\u001b[0m\u001b[1;34m\"\\t: \"\u001b[0m\u001b[1;33m+\u001b[0m\u001b[0mx\u001b[0m\u001b[1;33m[\u001b[0m\u001b[1;34m'label'\u001b[0m\u001b[1;33m]\u001b[0m\u001b[1;33m+\u001b[0m\u001b[1;34m\" (\"\u001b[0m\u001b[1;33m+\u001b[0m\u001b[0mx\u001b[0m\u001b[1;33m[\u001b[0m\u001b[1;34m'type'\u001b[0m\u001b[1;33m]\u001b[0m\u001b[1;33m+\u001b[0m\u001b[1;34m\")\"\u001b[0m\u001b[1;33m\u001b[0m\u001b[0m\n",
      "\u001b[1;32m/home/cam/bench/venv/gen/lib/python2.7/site-packages/bioblend/galaxy/objects/client.pyc\u001b[0m in \u001b[0;36mget\u001b[1;34m(self, id_)\u001b[0m\n\u001b[0;32m    332\u001b[0m         \u001b[1;33m:\u001b[0m\u001b[1;32mreturn\u001b[0m\u001b[1;33m:\u001b[0m \u001b[0mthe\u001b[0m \u001b[0mtool\u001b[0m \u001b[0mcorresponding\u001b[0m \u001b[0mto\u001b[0m \u001b[1;33m`\u001b[0m\u001b[1;33m`\u001b[0m\u001b[0mid_\u001b[0m\u001b[1;33m`\u001b[0m\u001b[1;33m`\u001b[0m\u001b[1;33m\u001b[0m\u001b[0m\n\u001b[0;32m    333\u001b[0m         \"\"\"\n\u001b[1;32m--> 334\u001b[1;33m         \u001b[0mres\u001b[0m \u001b[1;33m=\u001b[0m \u001b[0mself\u001b[0m\u001b[1;33m.\u001b[0m\u001b[0mgi\u001b[0m\u001b[1;33m.\u001b[0m\u001b[0mtools\u001b[0m\u001b[1;33m.\u001b[0m\u001b[0mshow_tool\u001b[0m\u001b[1;33m(\u001b[0m\u001b[0mid_\u001b[0m\u001b[1;33m)\u001b[0m\u001b[1;33m\u001b[0m\u001b[0m\n\u001b[0m\u001b[0;32m    335\u001b[0m         \u001b[0mtool_dict\u001b[0m \u001b[1;33m=\u001b[0m \u001b[0mself\u001b[0m\u001b[1;33m.\u001b[0m\u001b[0m_get_dict\u001b[0m\u001b[1;33m(\u001b[0m\u001b[1;34m'show_tool'\u001b[0m\u001b[1;33m,\u001b[0m \u001b[0mres\u001b[0m\u001b[1;33m)\u001b[0m\u001b[1;33m\u001b[0m\u001b[0m\n\u001b[0;32m    336\u001b[0m         \u001b[1;32mreturn\u001b[0m \u001b[0mwrappers\u001b[0m\u001b[1;33m.\u001b[0m\u001b[0mTool\u001b[0m\u001b[1;33m(\u001b[0m\u001b[0mtool_dict\u001b[0m\u001b[1;33m,\u001b[0m \u001b[0mgi\u001b[0m\u001b[1;33m=\u001b[0m\u001b[0mself\u001b[0m\u001b[1;33m.\u001b[0m\u001b[0mobj_gi\u001b[0m\u001b[1;33m)\u001b[0m\u001b[1;33m\u001b[0m\u001b[0m\n",
      "\u001b[1;32m/home/cam/bench/venv/gen/lib/python2.7/site-packages/bioblend/galaxy/tools/__init__.pyc\u001b[0m in \u001b[0;36mshow_tool\u001b[1;34m(self, tool_id, io_details, link_details)\u001b[0m\n\u001b[0;32m     78\u001b[0m         \u001b[0mparams\u001b[0m\u001b[1;33m[\u001b[0m\u001b[1;34m'io_details'\u001b[0m\u001b[1;33m]\u001b[0m \u001b[1;33m=\u001b[0m \u001b[0mio_details\u001b[0m\u001b[1;33m\u001b[0m\u001b[0m\n\u001b[0;32m     79\u001b[0m         \u001b[0mparams\u001b[0m\u001b[1;33m[\u001b[0m\u001b[1;34m'link_details'\u001b[0m\u001b[1;33m]\u001b[0m \u001b[1;33m=\u001b[0m \u001b[0mlink_details\u001b[0m\u001b[1;33m\u001b[0m\u001b[0m\n\u001b[1;32m---> 80\u001b[1;33m         \u001b[1;32mreturn\u001b[0m \u001b[0mClient\u001b[0m\u001b[1;33m.\u001b[0m\u001b[0m_get\u001b[0m\u001b[1;33m(\u001b[0m\u001b[0mself\u001b[0m\u001b[1;33m,\u001b[0m \u001b[0mid\u001b[0m\u001b[1;33m=\u001b[0m\u001b[0mtool_id\u001b[0m\u001b[1;33m,\u001b[0m \u001b[0mparams\u001b[0m\u001b[1;33m=\u001b[0m\u001b[0mparams\u001b[0m\u001b[1;33m)\u001b[0m\u001b[1;33m\u001b[0m\u001b[0m\n\u001b[0m\u001b[0;32m     81\u001b[0m \u001b[1;33m\u001b[0m\u001b[0m\n\u001b[0;32m     82\u001b[0m     \u001b[1;32mdef\u001b[0m \u001b[0mrun_tool\u001b[0m\u001b[1;33m(\u001b[0m\u001b[0mself\u001b[0m\u001b[1;33m,\u001b[0m \u001b[0mhistory_id\u001b[0m\u001b[1;33m,\u001b[0m \u001b[0mtool_id\u001b[0m\u001b[1;33m,\u001b[0m \u001b[0mtool_inputs\u001b[0m\u001b[1;33m)\u001b[0m\u001b[1;33m:\u001b[0m\u001b[1;33m\u001b[0m\u001b[0m\n",
      "\u001b[1;32m/home/cam/bench/venv/gen/lib/python2.7/site-packages/bioblend/galaxy/client.pyc\u001b[0m in \u001b[0;36m_get\u001b[1;34m(self, id, deleted, contents, url, params, json)\u001b[0m\n\u001b[0;32m    145\u001b[0m             \u001b[1;32mif\u001b[0m \u001b[0mattempts_left\u001b[0m \u001b[1;33m<=\u001b[0m \u001b[1;36m0\u001b[0m\u001b[1;33m:\u001b[0m\u001b[1;33m\u001b[0m\u001b[0m\n\u001b[0;32m    146\u001b[0m                 \u001b[0mbb\u001b[0m\u001b[1;33m.\u001b[0m\u001b[0mlog\u001b[0m\u001b[1;33m.\u001b[0m\u001b[0merror\u001b[0m\u001b[1;33m(\u001b[0m\u001b[0mmsg\u001b[0m\u001b[1;33m)\u001b[0m\u001b[1;33m\u001b[0m\u001b[0m\n\u001b[1;32m--> 147\u001b[1;33m                 \u001b[1;32mraise\u001b[0m \u001b[0mConnectionError\u001b[0m\u001b[1;33m(\u001b[0m\u001b[0mmsg\u001b[0m\u001b[1;33m)\u001b[0m\u001b[1;33m\u001b[0m\u001b[0m\n\u001b[0m\u001b[0;32m    148\u001b[0m             \u001b[1;32melse\u001b[0m\u001b[1;33m:\u001b[0m\u001b[1;33m\u001b[0m\u001b[0m\n\u001b[0;32m    149\u001b[0m                 \u001b[0mbb\u001b[0m\u001b[1;33m.\u001b[0m\u001b[0mlog\u001b[0m\u001b[1;33m.\u001b[0m\u001b[0mwarn\u001b[0m\u001b[1;33m(\u001b[0m\u001b[0mmsg\u001b[0m\u001b[1;33m)\u001b[0m\u001b[1;33m\u001b[0m\u001b[0m\n",
      "\u001b[1;31mConnectionError\u001b[0m: GET: error 404: '{\"err_msg\": \"Could not find tool with id \\'rbc_rnabob\\'\", \"err_code\": 404001}', 0 attempts left: None"
     ]
    }
   ],
   "source": [
    "tool = gfs.gi.tools.get('rbc_rnabob')\n",
    "for x in gfs.gi.gi.tools.show_tool(tool.id, True, False)['inputs']:\n",
    "    print x['name']+\"\\t: \"+x['label']+\" (\"+x['type']+\")\"\n"
   ]
  },
  {
   "cell_type": "code",
   "execution_count": 46,
   "metadata": {
    "collapsed": false
   },
   "outputs": [
    {
     "name": "stdout",
     "output_type": "stream",
     "text": [
      "{'infile': {'src': 'hda', 'id': '03501d7626bd192f'}}\n"
     ]
    },
    {
     "data": {
      "text/plain": [
       "[HistoryDatasetAssociation({u'accessible': True, u'resubmitted': False, u'create_time': u'2015-05-05T14:45:43.639170', u'file_size': 0, u'dataset_id': u'1c84aa7fc4490e6d', u'id': u'fb85969571388350', u'misc_info': u'', u'hda_ldda': u'hda', u'download_url': u'/api/histories/1cd8e2f6b131e891/contents/fb85969571388350/display', u'state': u'queued', u'display_types': [], u'display_apps': [], u'type': u'file', u'file_path': None, u'misc_blurb': u'queued', u'peek': None, u'update_time': u'2015-05-05T14:45:44.005637', u'data_type': u'galaxy.datatypes.data.Text', u'tags': [], u'deleted': False, u'history_id': u'1cd8e2f6b131e891', u'meta_files': [], u'genome_build': u'?', u'hid': 18, u'visualizations': [], u'metadata_data_lines': 4, u'file_ext': u'txt', u'annotation': None, u'metadata_dbkey': u'?', u'history_content_type': u'dataset', u'name': u'tac on data 4', u'extension': u'txt', u'visible': True, u'url': u'/api/histories/1cd8e2f6b131e891/contents/fb85969571388350', u'uuid': u'ec7d8915-979d-4a47-ae7c-ca76c91b8932', u'model_class': u'HistoryDatasetAssociation', u'purged': False, u'api_type': u'file'})]"
      ]
     },
     "execution_count": 46,
     "metadata": {},
     "output_type": "execute_result"
    }
   ],
   "source": [
    "tool = gfs.gi.tools.get('tp_tac')\n",
    "history = gfs.gi.histories.get('1cd8e2f6b131e891')\n",
    "inputs = dict(infile=dict(src='hda',id='03501d7626bd192f'))\n",
    "print inputs\n",
    "tool.run(inputs, history)"
   ]
  },
  {
   "cell_type": "code",
   "execution_count": 81,
   "metadata": {
    "collapsed": false,
    "scrolled": true
   },
   "outputs": [],
   "source": [
    "logging.getLogger().setLevel(logging.WARNING)\n",
    "fuse = FUSE(gfs, '/home/cam/bench/gfs', foreground=True, nothreads=True, ro=False)"
   ]
  },
  {
   "cell_type": "code",
   "execution_count": null,
   "metadata": {
    "collapsed": true
   },
   "outputs": [],
   "source": []
  }
 ],
 "metadata": {
  "kernelspec": {
   "display_name": "Python 2",
   "language": "python",
   "name": "python2"
  },
  "language_info": {
   "codemirror_mode": {
    "name": "ipython",
    "version": 2
   },
   "file_extension": ".py",
   "mimetype": "text/x-python",
   "name": "python",
   "nbconvert_exporter": "python",
   "pygments_lexer": "ipython2",
   "version": "2.7.10"
  }
 },
 "nbformat": 4,
 "nbformat_minor": 0
}
